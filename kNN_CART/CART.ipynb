{
 "cells": [
  {
   "cell_type": "code",
   "execution_count": 92,
   "metadata": {
    "collapsed": true
   },
   "outputs": [],
   "source": [
    "import pandas as pd\n",
    "dataset = pd.read_excel('Iris.xls')"
   ]
  },
  {
   "cell_type": "code",
   "execution_count": 93,
   "metadata": {
    "collapsed": false
   },
   "outputs": [
    {
     "data": {
      "text/html": [
       "<div>\n",
       "<style scoped>\n",
       "    .dataframe tbody tr th:only-of-type {\n",
       "        vertical-align: middle;\n",
       "    }\n",
       "\n",
       "    .dataframe tbody tr th {\n",
       "        vertical-align: top;\n",
       "    }\n",
       "\n",
       "    .dataframe thead th {\n",
       "        text-align: right;\n",
       "    }\n",
       "</style>\n",
       "<table border=\"1\" class=\"dataframe\">\n",
       "  <thead>\n",
       "    <tr style=\"text-align: right;\">\n",
       "      <th></th>\n",
       "      <th>sepal length</th>\n",
       "      <th>sepal width</th>\n",
       "      <th>petal length</th>\n",
       "      <th>petal width</th>\n",
       "      <th>iris</th>\n",
       "    </tr>\n",
       "  </thead>\n",
       "  <tbody>\n",
       "    <tr>\n",
       "      <th>0</th>\n",
       "      <td>5.1</td>\n",
       "      <td>3.5</td>\n",
       "      <td>1.4</td>\n",
       "      <td>0.2</td>\n",
       "      <td>Iris-setosa</td>\n",
       "    </tr>\n",
       "    <tr>\n",
       "      <th>1</th>\n",
       "      <td>4.9</td>\n",
       "      <td>3.0</td>\n",
       "      <td>1.4</td>\n",
       "      <td>0.2</td>\n",
       "      <td>Iris-setosa</td>\n",
       "    </tr>\n",
       "    <tr>\n",
       "      <th>2</th>\n",
       "      <td>4.7</td>\n",
       "      <td>3.2</td>\n",
       "      <td>1.3</td>\n",
       "      <td>0.2</td>\n",
       "      <td>Iris-setosa</td>\n",
       "    </tr>\n",
       "    <tr>\n",
       "      <th>3</th>\n",
       "      <td>4.6</td>\n",
       "      <td>3.1</td>\n",
       "      <td>1.5</td>\n",
       "      <td>0.2</td>\n",
       "      <td>Iris-setosa</td>\n",
       "    </tr>\n",
       "    <tr>\n",
       "      <th>4</th>\n",
       "      <td>5.0</td>\n",
       "      <td>3.6</td>\n",
       "      <td>1.4</td>\n",
       "      <td>0.2</td>\n",
       "      <td>Iris-setosa</td>\n",
       "    </tr>\n",
       "  </tbody>\n",
       "</table>\n",
       "</div>"
      ],
      "text/plain": [
       "   sepal length  sepal width  petal length  petal width         iris\n",
       "0           5.1          3.5           1.4          0.2  Iris-setosa\n",
       "1           4.9          3.0           1.4          0.2  Iris-setosa\n",
       "2           4.7          3.2           1.3          0.2  Iris-setosa\n",
       "3           4.6          3.1           1.5          0.2  Iris-setosa\n",
       "4           5.0          3.6           1.4          0.2  Iris-setosa"
      ]
     },
     "execution_count": 93,
     "metadata": {},
     "output_type": "execute_result"
    }
   ],
   "source": [
    "dataset.head()"
   ]
  },
  {
   "cell_type": "code",
   "execution_count": 94,
   "metadata": {
    "collapsed": false
   },
   "outputs": [
    {
     "data": {
      "text/plain": [
       "(150, 5)"
      ]
     },
     "execution_count": 94,
     "metadata": {},
     "output_type": "execute_result"
    }
   ],
   "source": [
    "dataset.shape"
   ]
  },
  {
   "cell_type": "code",
   "execution_count": 95,
   "metadata": {
    "collapsed": true
   },
   "outputs": [],
   "source": [
    "X = dataset.iloc[:, [0, 1, 2, 3]]\n",
    "y = dataset.iloc[:, 4]"
   ]
  },
  {
   "cell_type": "code",
   "execution_count": 96,
   "metadata": {
    "collapsed": false
   },
   "outputs": [
    {
     "data": {
      "text/html": [
       "<div>\n",
       "<style scoped>\n",
       "    .dataframe tbody tr th:only-of-type {\n",
       "        vertical-align: middle;\n",
       "    }\n",
       "\n",
       "    .dataframe tbody tr th {\n",
       "        vertical-align: top;\n",
       "    }\n",
       "\n",
       "    .dataframe thead th {\n",
       "        text-align: right;\n",
       "    }\n",
       "</style>\n",
       "<table border=\"1\" class=\"dataframe\">\n",
       "  <thead>\n",
       "    <tr style=\"text-align: right;\">\n",
       "      <th></th>\n",
       "      <th>sepal length</th>\n",
       "      <th>sepal width</th>\n",
       "      <th>petal length</th>\n",
       "      <th>petal width</th>\n",
       "    </tr>\n",
       "  </thead>\n",
       "  <tbody>\n",
       "    <tr>\n",
       "      <th>0</th>\n",
       "      <td>5.1</td>\n",
       "      <td>3.5</td>\n",
       "      <td>1.4</td>\n",
       "      <td>0.2</td>\n",
       "    </tr>\n",
       "    <tr>\n",
       "      <th>1</th>\n",
       "      <td>4.9</td>\n",
       "      <td>3.0</td>\n",
       "      <td>1.4</td>\n",
       "      <td>0.2</td>\n",
       "    </tr>\n",
       "    <tr>\n",
       "      <th>2</th>\n",
       "      <td>4.7</td>\n",
       "      <td>3.2</td>\n",
       "      <td>1.3</td>\n",
       "      <td>0.2</td>\n",
       "    </tr>\n",
       "    <tr>\n",
       "      <th>3</th>\n",
       "      <td>4.6</td>\n",
       "      <td>3.1</td>\n",
       "      <td>1.5</td>\n",
       "      <td>0.2</td>\n",
       "    </tr>\n",
       "    <tr>\n",
       "      <th>4</th>\n",
       "      <td>5.0</td>\n",
       "      <td>3.6</td>\n",
       "      <td>1.4</td>\n",
       "      <td>0.2</td>\n",
       "    </tr>\n",
       "  </tbody>\n",
       "</table>\n",
       "</div>"
      ],
      "text/plain": [
       "   sepal length  sepal width  petal length  petal width\n",
       "0           5.1          3.5           1.4          0.2\n",
       "1           4.9          3.0           1.4          0.2\n",
       "2           4.7          3.2           1.3          0.2\n",
       "3           4.6          3.1           1.5          0.2\n",
       "4           5.0          3.6           1.4          0.2"
      ]
     },
     "execution_count": 96,
     "metadata": {},
     "output_type": "execute_result"
    }
   ],
   "source": [
    "X.head()"
   ]
  },
  {
   "cell_type": "code",
   "execution_count": 97,
   "metadata": {
    "collapsed": false,
    "scrolled": true
   },
   "outputs": [
    {
     "data": {
      "text/plain": [
       "0    Iris-setosa\n",
       "1    Iris-setosa\n",
       "2    Iris-setosa\n",
       "3    Iris-setosa\n",
       "4    Iris-setosa\n",
       "Name: iris, dtype: object"
      ]
     },
     "execution_count": 97,
     "metadata": {},
     "output_type": "execute_result"
    }
   ],
   "source": [
    "y.head()"
   ]
  },
  {
   "cell_type": "code",
   "execution_count": 98,
   "metadata": {
    "collapsed": true
   },
   "outputs": [],
   "source": [
    "from sklearn.cross_validation import train_test_split\n",
    "dataset_train, dataset_test = train_test_split(dataset, test_size = 0.1, random_state = 0)"
   ]
  },
  {
   "cell_type": "code",
   "execution_count": 99,
   "metadata": {
    "collapsed": false
   },
   "outputs": [
    {
     "data": {
      "text/plain": [
       "(135, 5)"
      ]
     },
     "execution_count": 99,
     "metadata": {},
     "output_type": "execute_result"
    }
   ],
   "source": [
    "dataset_train.shape"
   ]
  },
  {
   "cell_type": "code",
   "execution_count": 100,
   "metadata": {
    "collapsed": false
   },
   "outputs": [
    {
     "data": {
      "text/plain": [
       "(15, 5)"
      ]
     },
     "execution_count": 100,
     "metadata": {},
     "output_type": "execute_result"
    }
   ],
   "source": [
    "dataset_test.shape"
   ]
  },
  {
   "cell_type": "markdown",
   "metadata": {},
   "source": [
    "# Comment"
   ]
  },
  {
   "cell_type": "code",
   "execution_count": 101,
   "metadata": {
    "collapsed": false
   },
   "outputs": [
    {
     "data": {
      "text/plain": [
       "KNeighborsClassifier(algorithm='auto', leaf_size=30, metric='minkowski',\n",
       "           metric_params=None, n_jobs=1, n_neighbors=5, p=2,\n",
       "           weights='uniform')"
      ]
     },
     "execution_count": 101,
     "metadata": {},
     "output_type": "execute_result"
    }
   ],
   "source": [
    "# Encoding the Independent Variable\n",
    "from sklearn.preprocessing import LabelEncoder, OneHotEncoder\n",
    "labelencoder_y = LabelEncoder()\n",
    "y = labelencoder_y.fit_transform(y)\n",
    "\n",
    "# Splitting the dataset into the Training set and Test set\n",
    "from sklearn.cross_validation import train_test_split\n",
    "X_train, X_test, y_train, y_test = train_test_split(X, y, test_size = 0.1, random_state = 0)\n",
    "\n",
    "# Feature Scalingss\n",
    "from sklearn.preprocessing import StandardScaler\n",
    "sc = StandardScaler()\n",
    "X_train = sc.fit_transform(X_train)\n",
    "X_test = sc.transform(X_test)\n",
    "\n",
    "# Fitting K-NN to the Training set\n",
    "from sklearn.neighbors import KNeighborsClassifier\n",
    "classifier = KNeighborsClassifier(n_neighbors = 5, metric = 'minkowski', p = 2)\n",
    "classifier.fit(X_train, y_train)"
   ]
  },
  {
   "cell_type": "code",
   "execution_count": 83,
   "metadata": {
    "collapsed": false
   },
   "outputs": [
    {
     "data": {
      "text/plain": [
       "array([[-1.08593443,  0.09813652, -1.24448561, -1.41148027],\n",
       "       [ 0.2219428 , -0.36672067,  0.44627813,  0.40699124],\n",
       "       [-0.37254685, -1.06400644,  0.38991934,  0.01731878],\n",
       "       [-1.20483236, -0.13429207, -1.3008444 , -1.15169862],\n",
       "       [-0.49144478,  1.95756524, -1.35720319, -1.0218078 ],\n",
       "       [-0.25364892, -0.59914926,  0.6717133 ,  1.05644535],\n",
       "       [-0.25364892, -0.13429207,  0.44627813,  0.40699124],\n",
       "       [-1.20483236,  0.79542229, -1.01905044, -1.28158945],\n",
       "       [-1.68042408, -0.36672067, -1.3008444 , -1.28158945],\n",
       "       [ 0.45973866, -0.59914926,  0.61535451,  0.79666371],\n",
       "       [-1.44262822,  1.26027947, -1.52627956, -1.28158945],\n",
       "       [-0.84813857,  1.72513665, -1.01905044, -1.0218078 ],\n",
       "       [ 0.45973866, -0.36672067,  0.33356055,  0.1472096 ],\n",
       "       [-0.9670365 , -1.76129221, -0.23002736, -0.24246287],\n",
       "       [-0.9670365 ,  0.79542229, -1.18812682, -1.0218078 ],\n",
       "       [ 0.69753452,  0.09813652,  1.00986605,  0.79666371],\n",
       "       [-0.49144478, -0.13429207,  0.44627813,  0.40699124],\n",
       "       [-0.72924064,  1.02785088, -1.24448561, -1.28158945],\n",
       "       [ 0.34084073, -0.13429207,  0.6717133 ,  0.79666371],\n",
       "       [ 0.69753452, -0.59914926,  1.06622484,  1.316227  ],\n",
       "       [-0.72924064, -0.83157785,  0.10812538,  0.27710042],\n",
       "       [-0.13475099,  1.72513665, -1.13176803, -1.15169862],\n",
       "       [ 0.2219428 , -0.83157785,  0.78443088,  0.53688206],\n",
       "       [ 0.10304487, -0.13429207,  0.27720176,  0.40699124],\n",
       "       [-0.01585306, -1.06400644,  0.16448418,  0.01731878],\n",
       "       [ 1.17312624, -0.13429207,  1.00986605,  1.18633618],\n",
       "       [-1.32373029,  0.33056511, -1.35720319, -1.28158945],\n",
       "       [ 1.29202417,  0.09813652,  0.78443088,  1.44611782],\n",
       "       [-0.9670365 ,  1.02785088, -1.18812682, -0.76202616],\n",
       "       [-0.49144478,  1.49270806, -1.24448561, -1.28158945],\n",
       "       [-0.9670365 , -2.45857798, -0.11730978, -0.24246287],\n",
       "       [ 0.81643245, -0.13429207,  1.00986605,  0.79666371],\n",
       "       [ 1.05422831,  0.5629937 ,  1.12258363,  1.70589946],\n",
       "       [ 0.2219428 , -1.9937208 ,  0.72807209,  0.40699124],\n",
       "       [ 1.05422831, -1.29643503,  1.17894242,  0.79666371],\n",
       "       [-0.25364892, -1.29643503,  0.10812538, -0.11257205],\n",
       "       [ 2.24320761, -0.13429207,  1.34801879,  1.44611782],\n",
       "       [ 0.57863659,  0.5629937 ,  0.55899572,  0.53688206],\n",
       "       [-0.37254685, -1.52886362,  0.05176659, -0.11257205],\n",
       "       [ 0.57863659, -0.83157785,  0.6717133 ,  0.79666371],\n",
       "       [ 0.57863659, -0.59914926,  0.78443088,  0.40699124],\n",
       "       [-1.08593443, -1.29643503,  0.44627813,  0.66677289],\n",
       "       [ 0.57863659, -1.29643503,  0.72807209,  0.92655453],\n",
       "       [ 1.4109221 ,  0.33056511,  0.55899572,  0.27710042],\n",
       "       [ 0.81643245, -0.13429207,  0.84078967,  1.05644535],\n",
       "       [ 0.2219428 ,  0.79542229,  0.44627813,  0.53688206],\n",
       "       [-1.20483236,  0.09813652, -1.18812682, -1.28158945],\n",
       "       [-0.01585306, -0.83157785,  0.78443088,  0.92655453],\n",
       "       [-0.25364892, -0.83157785,  0.27720176,  0.1472096 ],\n",
       "       [-0.25364892, -0.36672067, -0.06095099,  0.1472096 ],\n",
       "       [-0.37254685, -1.29643503,  0.16448418,  0.1472096 ],\n",
       "       [ 0.34084073, -0.13429207,  0.50263692,  0.27710042],\n",
       "       [ 1.64871796,  0.33056511,  1.29166   ,  0.79666371],\n",
       "       [-0.61034271,  1.49270806, -1.24448561, -1.28158945],\n",
       "       [-1.79932201, -0.13429207, -1.46992077, -1.41148027],\n",
       "       [ 0.69753452, -0.83157785,  0.89714846,  0.92655453],\n",
       "       [-0.13475099, -0.13429207,  0.27720176,  0.01731878],\n",
       "       [-0.49144478,  0.79542229, -1.13176803, -1.28158945],\n",
       "       [-0.13475099,  3.1197082 , -1.24448561, -1.0218078 ],\n",
       "       [ 1.29202417,  0.09813652,  0.6717133 ,  0.40699124],\n",
       "       [-1.44262822,  0.09813652, -1.24448561, -1.28158945],\n",
       "       [ 0.10304487, -0.13429207,  0.78443088,  0.79666371],\n",
       "       [-0.84813857, -1.29643503, -0.39910374, -0.11257205],\n",
       "       [-1.44262822,  0.79542229, -1.3008444 , -1.15169862],\n",
       "       [ 0.45973866, -1.9937208 ,  0.44627813,  0.40699124],\n",
       "       [ 1.64871796,  1.26027947,  1.34801879,  1.70589946],\n",
       "       [-0.13475099, -0.36672067,  0.27720176,  0.1472096 ],\n",
       "       [-1.20483236, -0.13429207, -1.3008444 , -1.41148027],\n",
       "       [ 1.52982003, -0.13429207,  1.23530121,  1.18633618],\n",
       "       [ 1.29202417,  0.33056511,  1.12258363,  1.44611782],\n",
       "       [ 0.81643245, -0.13429207,  1.17894242,  1.316227  ],\n",
       "       [ 0.69753452, -0.59914926,  1.06622484,  1.18633618],\n",
       "       [-0.84813857,  1.72513665, -1.18812682, -1.28158945],\n",
       "       [-1.20483236,  0.79542229, -1.18812682, -1.28158945],\n",
       "       [ 0.81643245,  0.33056511,  0.78443088,  1.05644535],\n",
       "       [ 1.05422831,  0.5629937 ,  1.12258363,  1.18633618],\n",
       "       [-1.56152615, -1.76129221, -1.35720319, -1.15169862],\n",
       "       [ 0.45973866,  0.79542229,  0.95350726,  1.44611782],\n",
       "       [-1.08593443, -0.13429207, -1.3008444 , -1.28158945],\n",
       "       [-0.13475099, -1.29643503,  0.72807209,  1.05644535],\n",
       "       [ 1.29202417,  0.09813652,  0.95350726,  1.18633618],\n",
       "       [-1.68042408,  0.33056511, -1.35720319, -1.28158945],\n",
       "       [-0.9670365 ,  1.26027947, -1.3008444 , -1.28158945],\n",
       "       [ 1.64871796, -0.13429207,  1.17894242,  0.53688206],\n",
       "       [-0.84813857,  1.02785088, -1.3008444 , -1.15169862],\n",
       "       [-1.68042408, -0.13429207, -1.35720319, -1.28158945],\n",
       "       [-0.49144478,  1.95756524, -1.13176803, -1.0218078 ],\n",
       "       [-0.37254685, -1.76129221,  0.16448418,  0.1472096 ],\n",
       "       [ 1.17312624,  0.33056511,  1.23530121,  1.44611782],\n",
       "       [ 2.12430968, -0.13429207,  1.62981275,  1.18633618],\n",
       "       [-0.84813857,  1.02785088, -1.3008444 , -1.28158945],\n",
       "       [-1.08593443,  0.09813652, -1.24448561, -1.41148027],\n",
       "       [-0.72924064,  0.79542229, -1.3008444 , -1.28158945],\n",
       "       [-0.13475099, -0.59914926,  0.44627813,  0.1472096 ],\n",
       "       [ 0.93533038, -0.13429207,  0.38991934,  0.27710042],\n",
       "       [-0.9670365 ,  0.33056511, -1.41356198, -1.28158945],\n",
       "       [-0.84813857,  0.5629937 , -1.13176803, -0.89191698],\n",
       "       [ 0.69753452, -0.36672067,  0.33356055,  0.1472096 ],\n",
       "       [-0.49144478,  0.79542229, -1.24448561, -1.0218078 ],\n",
       "       [ 2.24320761, -1.06400644,  1.79888913,  1.44611782],\n",
       "       [-1.08593443, -1.52886362, -0.23002736, -0.24246287],\n",
       "       [ 2.48100347,  1.72513665,  1.51709517,  1.05644535],\n",
       "       [ 1.05422831,  0.09813652,  0.38991934,  0.27710042],\n",
       "       [-0.72924064,  2.42242242, -1.24448561, -1.41148027],\n",
       "       [ 0.2219428 , -0.13429207,  0.61535451,  0.79666371],\n",
       "       [-0.01585306,  2.18999383, -1.41356198, -1.28158945],\n",
       "       [ 2.24320761, -0.59914926,  1.68617154,  1.05644535],\n",
       "       [-0.84813857,  1.72513665, -1.24448561, -1.15169862],\n",
       "       [-1.32373029,  0.33056511, -1.18812682, -1.28158945],\n",
       "       [ 1.88651382, -0.59914926,  1.34801879,  0.92655453],\n",
       "       [-0.9670365 ,  0.5629937 , -1.3008444 , -1.28158945],\n",
       "       [ 0.57863659,  0.79542229,  1.06622484,  1.57600864],\n",
       "       [-0.13475099, -0.59914926,  0.22084297,  0.1472096 ],\n",
       "       [-0.01585306, -0.83157785,  0.10812538,  0.01731878],\n",
       "       [-0.13475099, -1.06400644, -0.11730978, -0.24246287],\n",
       "       [ 0.69753452,  0.33056511,  0.89714846,  1.44611782],\n",
       "       [ 1.05422831, -0.13429207,  0.84078967,  1.44611782],\n",
       "       [ 0.57863659, -1.29643503,  0.6717133 ,  0.40699124],\n",
       "       [ 1.05422831, -0.13429207,  0.72807209,  0.66677289],\n",
       "       [-0.9670365 , -0.13429207, -1.18812682, -1.28158945],\n",
       "       [-0.37254685, -1.52886362, -0.0045922 , -0.24246287],\n",
       "       [ 1.05422831,  0.09813652,  1.06622484,  1.57600864],\n",
       "       [-0.01585306, -0.83157785,  0.78443088,  0.92655453],\n",
       "       [-0.84813857,  0.79542229, -1.24448561, -1.28158945],\n",
       "       [ 0.93533038, -0.36672067,  0.50263692,  0.1472096 ],\n",
       "       [-0.25364892, -0.13429207,  0.22084297,  0.1472096 ],\n",
       "       [ 0.10304487,  0.33056511,  0.61535451,  0.79666371],\n",
       "       [ 0.57863659, -1.76129221,  0.38991934,  0.1472096 ],\n",
       "       [-0.37254685,  1.02785088, -1.35720319, -1.28158945],\n",
       "       [-0.84813857,  1.49270806, -1.24448561, -1.0218078 ],\n",
       "       [-1.08593443,  0.09813652, -1.24448561, -1.41148027],\n",
       "       [ 0.57863659, -0.36672067,  1.06622484,  0.79666371],\n",
       "       [-0.01585306, -0.83157785,  0.22084297, -0.24246287],\n",
       "       [ 2.24320761,  1.72513665,  1.68617154,  1.316227  ],\n",
       "       [-1.44262822,  0.33056511, -1.3008444 , -1.28158945]])"
      ]
     },
     "execution_count": 83,
     "metadata": {},
     "output_type": "execute_result"
    }
   ],
   "source": [
    "X_train"
   ]
  },
  {
   "cell_type": "code",
   "execution_count": 84,
   "metadata": {
    "collapsed": false
   },
   "outputs": [
    {
     "data": {
      "text/plain": [
       "array([0, 1, 1, 0, 0, 2, 1, 0, 0, 2, 0, 0, 1, 1, 0, 2, 1, 0, 2, 2, 1, 0,\n",
       "       1, 1, 1, 2, 0, 2, 0, 0, 1, 2, 2, 2, 2, 1, 2, 1, 1, 2, 2, 2, 2, 1,\n",
       "       2, 1, 0, 2, 1, 1, 1, 1, 2, 0, 0, 2, 1, 0, 0, 1, 0, 2, 1, 0, 1, 2,\n",
       "       1, 0, 2, 2, 2, 2, 0, 0, 2, 2, 0, 2, 0, 2, 2, 0, 0, 2, 0, 0, 0, 1,\n",
       "       2, 2, 0, 0, 0, 1, 1, 0, 0, 1, 0, 2, 1, 2, 1, 0, 2, 0, 2, 0, 0, 2,\n",
       "       0, 2, 1, 1, 1, 2, 2, 1, 1, 0, 1, 2, 2, 0, 1, 1, 1, 1, 0, 0, 0, 2,\n",
       "       1, 2, 0], dtype=int64)"
      ]
     },
     "execution_count": 84,
     "metadata": {},
     "output_type": "execute_result"
    }
   ],
   "source": [
    "y_train"
   ]
  },
  {
   "cell_type": "code",
   "execution_count": 102,
   "metadata": {
    "collapsed": false,
    "scrolled": true
   },
   "outputs": [
    {
     "name": "stderr",
     "output_type": "stream",
     "text": [
      "C:\\Users\\Saanika\\Anaconda3\\lib\\site-packages\\scipy\\stats\\stats.py:1633: FutureWarning: Using a non-tuple sequence for multidimensional indexing is deprecated; use `arr[tuple(seq)]` instead of `arr[seq]`. In the future this will be interpreted as an array index, `arr[np.array(seq)]`, which will result either in an error or a different result.\n",
      "  return np.add.reduce(sorted[indexer] * weights, axis=axis) / sumval\n"
     ]
    },
    {
     "data": {
      "image/png": "[encoded data removed]",
      "text/plain": [
       "<matplotlib.figure.Figure at 0x1f59b14bcf8>"
      ]
     },
     "metadata": {},
     "output_type": "display_data"
    }
   ],
   "source": [
    "import seaborn as sns\n",
    "import matplotlib.pyplot as plt\n",
    "sns.pairplot(dataset, hue = 'iris')\n",
    "plt.show()"
   ]
  },
  {
   "cell_type": "code",
   "execution_count": null,
   "metadata": {
    "collapsed": false
   },
   "outputs": [],
   "source": [
    "for index, row in dataset_train.iterrows():\n",
    "    print (row[\"petal length\"], row[\"iris\"])"
   ]
  },
  {
   "cell_type": "code",
   "execution_count": 103,
   "metadata": {
    "collapsed": false
   },
   "outputs": [],
   "source": [
    "# Splitting on petal length\n",
    "count1 = 0\n",
    "count11 = 0\n",
    "count12 = 0\n",
    "count13 = 0\n",
    "count2 = 0\n",
    "count21 = 0\n",
    "count22 = 0\n",
    "count23 = 0\n",
    "count3 = 0\n",
    "count31 = 0\n",
    "count32 = 0\n",
    "count33 = 0\n",
    "count = 0\n",
    "for index, row in dataset_train.iterrows():\n",
    "    count = count + 1\n",
    "    #print (row[\"petal length\"], row[\"iris\"])\n",
    "    if(row[\"petal length\"] < 2.2):\n",
    "        count1 = count1 + 1\n",
    "        if(row[\"iris\"] == \"Iris-setosa\"):\n",
    "            count11 = count11 + 1\n",
    "        elif(row[\"iris\"] == \"Iris-versicolor\"):\n",
    "            count12 = count12 + 1\n",
    "        else:\n",
    "            count13 = count13 + 1\n",
    "    elif(row[\"petal length\"] >= 2.2 and row[\"petal length\"] <= 4.6):\n",
    "        count2 = count2 + 1\n",
    "        if(row[\"iris\"] == \"Iris-setosa\"):\n",
    "            count21 = count21 + 1\n",
    "        if(row[\"iris\"] == \"Iris-versicolor\"):\n",
    "            count22 = count22 + 1\n",
    "        else:\n",
    "            count23 = count23 +1\n",
    "    else:\n",
    "        count3 = count3 + 1\n",
    "        if(row[\"iris\"] == \"Iris-setosa\"):\n",
    "            count31 = count31 + 1\n",
    "        if(row[\"iris\"] == \"Iris-versicolor\"):\n",
    "            count32 = count32 + 1\n",
    "        else:\n",
    "            count33 = count33 + 1"
   ]
  },
  {
   "cell_type": "code",
   "execution_count": 104,
   "metadata": {
    "collapsed": false
   },
   "outputs": [
    {
     "name": "stdout",
     "output_type": "stream",
     "text": [
      "47\n",
      "47\n",
      "0\n",
      "0\n",
      "36\n",
      "0\n",
      "35\n",
      "1\n",
      "52\n",
      "0\n",
      "7\n",
      "45\n",
      "135\n"
     ]
    }
   ],
   "source": [
    "print(count1)\n",
    "print(count11)\n",
    "print(count12)\n",
    "print(count13)\n",
    "print(count2)\n",
    "print(count21)\n",
    "print(count22)\n",
    "print(count23)\n",
    "print(count3)\n",
    "print(count31)\n",
    "print(count32)\n",
    "print(count33)\n",
    "print(count)"
   ]
  },
  {
   "cell_type": "code",
   "execution_count": 105,
   "metadata": {
    "collapsed": true
   },
   "outputs": [],
   "source": [
    "# Gini index of node 1\n",
    "index1 = (count11/count1)**2 + (count12/count1)**2 + (count13/count1)**2\n",
    "\n",
    "# Gini index of node 2\n",
    "index2 = (count21/count2)**2 + (count22/count2)**2 + (count23/count2)**2\n",
    "\n",
    "\n",
    "# Gini index of node 3\n",
    "index3 = (count31/count3)**2 + (count32/count3)**2 + (count33/count3)**2\n",
    "\n",
    "# Gini index of split\n",
    "split_index = index1 * (count1/count) + index2 * (count2/count) + index3 * (count3/count)"
   ]
  },
  {
   "cell_type": "code",
   "execution_count": 106,
   "metadata": {
    "collapsed": false,
    "scrolled": true
   },
   "outputs": [
    {
     "name": "stdout",
     "output_type": "stream",
     "text": [
      "1.0\n",
      "0.9459876543209875\n",
      "0.7670118343195267\n",
      "0.8958531180753402\n"
     ]
    }
   ],
   "source": [
    "print(index1)\n",
    "print(index2)\n",
    "print(index3)\n",
    "print(split_index)"
   ]
  },
  {
   "cell_type": "code",
   "execution_count": 111,
   "metadata": {
    "collapsed": false
   },
   "outputs": [
    {
     "name": "stdout",
     "output_type": "stream",
     "text": [
      "0.2 Iris-setosa\n",
      "0.2 Iris-setosa\n",
      "0.2 Iris-setosa\n",
      "0.2 Iris-setosa\n",
      "0.2 Iris-setosa\n",
      "0.4 Iris-setosa\n",
      "0.3 Iris-setosa\n",
      "0.2 Iris-setosa\n",
      "0.2 Iris-setosa\n",
      "0.1 Iris-setosa\n",
      "0.2 Iris-setosa\n",
      "0.2 Iris-setosa\n",
      "0.1 Iris-setosa\n",
      "0.1 Iris-setosa\n",
      "0.2 Iris-setosa\n",
      "0.4 Iris-setosa\n",
      "0.4 Iris-setosa\n",
      "0.3 Iris-setosa\n",
      "0.3 Iris-setosa\n",
      "0.3 Iris-setosa\n",
      "0.2 Iris-setosa\n",
      "0.4 Iris-setosa\n",
      "0.2 Iris-setosa\n",
      "0.5 Iris-setosa\n",
      "0.2 Iris-setosa\n",
      "0.2 Iris-setosa\n",
      "0.4 Iris-setosa\n",
      "0.2 Iris-setosa\n",
      "0.2 Iris-setosa\n",
      "0.2 Iris-setosa\n",
      "0.2 Iris-setosa\n",
      "0.4 Iris-setosa\n",
      "0.1 Iris-setosa\n",
      "0.2 Iris-setosa\n",
      "0.1 Iris-setosa\n",
      "0.2 Iris-setosa\n",
      "0.2 Iris-setosa\n",
      "0.1 Iris-setosa\n",
      "0.2 Iris-setosa\n",
      "0.2 Iris-setosa\n",
      "0.3 Iris-setosa\n",
      "0.3 Iris-setosa\n",
      "0.2 Iris-setosa\n",
      "0.6 Iris-setosa\n",
      "0.4 Iris-setosa\n",
      "0.3 Iris-setosa\n",
      "0.2 Iris-setosa\n",
      "0.2 Iris-setosa\n",
      "0.2 Iris-setosa\n",
      "0.2 Iris-setosa\n",
      "1.4 Iris-versicolor\n",
      "1.5 Iris-versicolor\n",
      "1.5 Iris-versicolor\n",
      "1.3 Iris-versicolor\n",
      "1.5 Iris-versicolor\n",
      "1.3 Iris-versicolor\n",
      "1.6 Iris-versicolor\n",
      "1.0 Iris-versicolor\n",
      "1.3 Iris-versicolor\n",
      "1.4 Iris-versicolor\n",
      "1.0 Iris-versicolor\n",
      "1.5 Iris-versicolor\n",
      "1.0 Iris-versicolor\n",
      "1.4 Iris-versicolor\n",
      "1.3 Iris-versicolor\n",
      "1.4 Iris-versicolor\n",
      "1.5 Iris-versicolor\n",
      "1.0 Iris-versicolor\n",
      "1.5 Iris-versicolor\n",
      "1.1 Iris-versicolor\n",
      "1.8 Iris-versicolor\n",
      "1.3 Iris-versicolor\n",
      "1.5 Iris-versicolor\n",
      "1.2 Iris-versicolor\n",
      "1.3 Iris-versicolor\n",
      "1.4 Iris-versicolor\n",
      "1.4 Iris-versicolor\n",
      "1.7 Iris-versicolor\n",
      "1.5 Iris-versicolor\n",
      "1.0 Iris-versicolor\n",
      "1.1 Iris-versicolor\n",
      "1.0 Iris-versicolor\n",
      "1.2 Iris-versicolor\n",
      "1.6 Iris-versicolor\n",
      "1.5 Iris-versicolor\n",
      "1.6 Iris-versicolor\n",
      "1.5 Iris-versicolor\n",
      "1.3 Iris-versicolor\n",
      "1.3 Iris-versicolor\n",
      "1.3 Iris-versicolor\n",
      "1.2 Iris-versicolor\n",
      "1.4 Iris-versicolor\n",
      "1.2 Iris-versicolor\n",
      "1.0 Iris-versicolor\n",
      "1.3 Iris-versicolor\n",
      "1.2 Iris-versicolor\n",
      "1.3 Iris-versicolor\n",
      "1.3 Iris-versicolor\n",
      "1.1 Iris-versicolor\n",
      "1.3 Iris-versicolor\n",
      "2.5 Iris-virginica\n",
      "1.9 Iris-virginica\n",
      "2.1 Iris-virginica\n",
      "1.8 Iris-virginica\n",
      "2.2 Iris-virginica\n",
      "2.1 Iris-virginica\n",
      "1.7 Iris-virginica\n",
      "1.8 Iris-virginica\n",
      "1.8 Iris-virginica\n",
      "2.5 Iris-virginica\n",
      "2.0 Iris-virginica\n",
      "1.9 Iris-virginica\n",
      "2.1 Iris-virginica\n",
      "2.0 Iris-virginica\n",
      "2.4 Iris-virginica\n",
      "2.3 Iris-virginica\n",
      "1.8 Iris-virginica\n",
      "2.2 Iris-virginica\n",
      "2.3 Iris-virginica\n",
      "1.5 Iris-virginica\n",
      "2.3 Iris-virginica\n",
      "2.0 Iris-virginica\n",
      "2.0 Iris-virginica\n",
      "1.8 Iris-virginica\n",
      "2.1 Iris-virginica\n",
      "1.8 Iris-virginica\n",
      "1.8 Iris-virginica\n",
      "1.8 Iris-virginica\n",
      "2.1 Iris-virginica\n",
      "1.6 Iris-virginica\n",
      "1.9 Iris-virginica\n",
      "2.0 Iris-virginica\n",
      "2.2 Iris-virginica\n",
      "1.5 Iris-virginica\n",
      "1.4 Iris-virginica\n",
      "2.3 Iris-virginica\n",
      "2.4 Iris-virginica\n",
      "1.8 Iris-virginica\n",
      "1.8 Iris-virginica\n",
      "2.1 Iris-virginica\n",
      "2.4 Iris-virginica\n",
      "2.3 Iris-virginica\n",
      "1.9 Iris-virginica\n",
      "2.3 Iris-virginica\n",
      "2.5 Iris-virginica\n",
      "2.3 Iris-virginica\n",
      "1.9 Iris-virginica\n",
      "2.0 Iris-virginica\n",
      "2.3 Iris-virginica\n",
      "1.8 Iris-virginica\n"
     ]
    }
   ],
   "source": [
    "# Splitting on petal width\n",
    "count1 = 0\n",
    "count11 = 0\n",
    "count12 = 0\n",
    "count13 = 0\n",
    "count2 = 0\n",
    "count21 = 0\n",
    "count22 = 0\n",
    "count23 = 0\n",
    "count3 = 0\n",
    "count31 = 0\n",
    "count32 = 0\n",
    "count33 = 0\n",
    "count = 0\n",
    "for index, row in dataset.iterrows():\n",
    "    count = count + 1\n",
    "    print (row[\"petal width\"], row[\"iris\"])\n",
    "    if(row[\"petal width\"] < 0.7):\n",
    "        count1 = count1 + 1\n",
    "        if(row[\"iris\"] == \"Iris-setosa\"):\n",
    "            count11 = count11 + 1\n",
    "        elif(row[\"iris\"] == \"Iris-versicolor\"):\n",
    "            count12 = count12 + 1\n",
    "        else:\n",
    "            count13 = count13 + 1\n",
    "    elif(row[\"petal width\"] >= 0.7 and row[\"petal width\"] <= 1.5):\n",
    "        count2 = count2 + 1\n",
    "        if(row[\"iris\"] == \"Iris-setosa\"):\n",
    "            count21 = count21 + 1\n",
    "        if(row[\"iris\"] == \"Iris-versicolor\"):\n",
    "            count22 = count22 + 1\n",
    "        else:\n",
    "            count23 = count23 +1\n",
    "    else:\n",
    "        count3 = count3 + 1\n",
    "        if(row[\"iris\"] == \"Iris-setosa\"):\n",
    "            count31 = count31 + 1\n",
    "        if(row[\"iris\"] == \"Iris-versicolor\"):\n",
    "            count32 = count32 + 1\n",
    "        else:\n",
    "            count33 = count33 + 1"
   ]
  },
  {
   "cell_type": "code",
   "execution_count": 112,
   "metadata": {
    "collapsed": false
   },
   "outputs": [
    {
     "name": "stdout",
     "output_type": "stream",
     "text": [
      "50\n",
      "50\n",
      "0\n",
      "0\n",
      "48\n",
      "0\n",
      "45\n",
      "3\n",
      "52\n",
      "0\n",
      "5\n",
      "47\n",
      "150\n"
     ]
    }
   ],
   "source": [
    "print(count1)\n",
    "print(count11)\n",
    "print(count12)\n",
    "print(count13)\n",
    "print(count2)\n",
    "print(count21)\n",
    "print(count22)\n",
    "print(count23)\n",
    "print(count3)\n",
    "print(count31)\n",
    "print(count32)\n",
    "print(count33)\n",
    "print(count)"
   ]
  },
  {
   "cell_type": "code",
   "execution_count": 113,
   "metadata": {
    "collapsed": true
   },
   "outputs": [],
   "source": [
    "# Gini index of node 1\n",
    "index1 = (count11/count1)**2 + (count12/count1)**2 + (count13/count1)**2\n",
    "\n",
    "# Gini index of node 2\n",
    "index2 = (count21/count2)**2 + (count22/count2)**2 + (count23/count2)**2\n",
    "\n",
    "\n",
    "# Gini index of node 3\n",
    "index3 = (count31/count3)**2 + (count32/count3)**2 + (count33/count3)**2\n",
    "\n",
    "# Gini index of split\n",
    "split_index = index1 * (count1/count) + index2 * (count2/count) + index3 * (count3/count)"
   ]
  },
  {
   "cell_type": "code",
   "execution_count": 114,
   "metadata": {
    "collapsed": false
   },
   "outputs": [
    {
     "name": "stdout",
     "output_type": "stream",
     "text": [
      "1.0\n",
      "0.8828125\n",
      "0.8261834319526626\n",
      "0.9022435897435898\n"
     ]
    }
   ],
   "source": [
    "print(index1)\n",
    "print(index2)\n",
    "print(index3)\n",
    "print(split_index)"
   ]
  }
 ],
 "metadata": {
  "anaconda-cloud": {},
  "kernelspec": {
   "display_name": "Python [default]",
   "language": "python",
   "name": "python3"
  },
  "language_info": {
   "codemirror_mode": {
    "name": "ipython",
    "version": 3
   },
   "file_extension": ".py",
   "mimetype": "text/x-python",
   "name": "python",
   "nbconvert_exporter": "python",
   "pygments_lexer": "ipython3",
   "version": "3.5.2"
  }
 },
 "nbformat": 4,
 "nbformat_minor": 2
}
